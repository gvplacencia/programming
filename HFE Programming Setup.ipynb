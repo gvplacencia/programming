{
 "cells": [
  {
   "cell_type": "markdown",
   "id": "8441b9da",
   "metadata": {},
   "source": [
    "# Python for Human Factors Engineering  \n",
    "## Created by: Greg Placencia, PhD\n",
    "# Objective:  \n",
    "Instructions to set up a Python environment to use for Human Factors Engineering  \n",
    "# Environment\n",
    "## Anaconda:  https://anaconda.org/\n",
    "https://www.anaconda.com/download  \n",
    "Manages your programming environment, with several preinstalled libraries, including JupyterLab.  \n",
    "### Documentation  \n",
    "https://docs.anaconda.com/free/anaconda/getting-started/\n",
    "\n",
    "### JupyterLab https://jupyter.org/  \n",
    "A web-based interactive development environment for notebooks, code, and data.  \n",
    "Comes with Anaconda  \n",
    "\n",
    "## Libraries\n",
    "### Data Analysis\n",
    "- pandas\n",
    "- numpy\n",
    "- polars\n",
    "\n",
    "### t-test\n",
    "- SciPi Library https://scipy.org/ or https://docs.scipy.org/doc/scipy/reference/generated/scipy.stats.ttest_ind.html  \n",
    "- - python -m pip install scipy  \n",
    "- - python -m pip install scipy.stats\n",
    "\n",
    "### Visualization\n",
    "- matplotlib\n",
    "- seaborn\n",
    "    \n",
    "# Optional      \n",
    "## Visual Studio Code https://visualstudio.microsoft.com/  \n",
    "A standalone source code editor that runs on Windows, macOS, and Linux. The top pick for Java and web developers, with tons of extensions to support just about any programming language.\n",
    "https://visualstudio.microsoft.com/downloads/\n",
    "\n",
    "## Other IDEs  \n",
    "https://dev.to/rendick/5-best-open-source-ides-for-programming-4eng"
   ]
  },
  {
   "cell_type": "code",
   "execution_count": 3,
   "id": "131106eb",
   "metadata": {},
   "outputs": [],
   "source": [
    "# To install a library from a jupyter notebook, we can use:\n",
    "#!pip install <library name>\n",
    "\n",
    "# import basic libraries\n",
    "import pandas as pd\n",
    "import numpy as np\n",
    "import polars as pl\n",
    "\n",
    "import scipy.stats as stats #statistics library for t-test\n",
    "\n",
    "# import visualization\n",
    "import matplotlib as plt\n",
    "import seaborn as sns"
   ]
  },
  {
   "cell_type": "code",
   "execution_count": 5,
   "id": "c74e2010",
   "metadata": {},
   "outputs": [],
   "source": [
    "#read in CSV file. Change name as needed\n",
    "#df = pd.read_csv('.csv')"
   ]
  }
 ],
 "metadata": {
  "kernelspec": {
   "display_name": "Python 3 (ipykernel)",
   "language": "python",
   "name": "python3"
  },
  "language_info": {
   "codemirror_mode": {
    "name": "ipython",
    "version": 3
   },
   "file_extension": ".py",
   "mimetype": "text/x-python",
   "name": "python",
   "nbconvert_exporter": "python",
   "pygments_lexer": "ipython3",
   "version": "3.10.9"
  }
 },
 "nbformat": 4,
 "nbformat_minor": 5
}
