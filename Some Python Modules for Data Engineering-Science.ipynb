{
 "cells": [
  {
   "cell_type": "markdown",
   "id": "1a8c957c-cff0-4282-919b-15daa55ea970",
   "metadata": {},
   "source": [
    "# Some Python Modules for Data Engineering/Science Work\n",
    "## Greg Placencia, PhD"
   ]
  },
  {
   "cell_type": "markdown",
   "id": "f6b467aa-abd7-4adb-a126-dd698629ffca",
   "metadata": {
    "tags": []
   },
   "source": [
    "# File Handling\n",
    "## csv - Handle CSV files\n",
    "- https://docs.python.org/3/library/csv.html\n",
    "\n",
    "- Parse and process large CSV files as part of ETL pipelines\n",
    "- Convert CSV data into other formats, like JSON or database tables\n",
    "- Write processed or transformed data back into CSV format\n",
    "\n",
    "CSV Module - How to Read, Parse, and Write CSV Files tutorial\n",
    "- https://www.youtube.com/watch?v=q5uM4VKywbA\n",
    "\n",
    "---\n",
    "## json - Handle JSON data\n",
    "- https://docs.python.org/3/library/json.html\n",
    "\n",
    "- Converting API responses into Python objects for further processing\n",
    "- Store config info or metadata in a structured format\n",
    "- Handle complex, nested data structures often found in big data applications\n",
    "\n",
    "Work with JSON Data tutorial\n",
    "- https://www.youtube.com/watch?v=9N6a-VLBa2I\n",
    "\n",
    "---\n",
    "## pickle - Save and reload Python objects to and from a binary format\n",
    "- https://docs.python.org/3/library/pickle.html\n",
    "### Saves complex data structures, such as lists, dictionaries, or custom objects to memory and reload them later.\n",
    "Useful for the following tasks:\n",
    "- Cache transformed data to speed up repetitive tasks in data pipelines\n",
    "- Persisting trained models or data transformation steps for reproducibility\n",
    "- Store/reload complex configurations or datasets between processing stages\n",
    "\n",
    "Python Pickle Module for saving objects (serialization) tutorial\n",
    "- https://www.youtube.com/watch?v=2Tw39kZIbhs"
   ]
  },
  {
   "cell_type": "code",
   "execution_count": null,
   "id": "52d94cd8-8e27-4b7c-b4ec-8d876b9c41cf",
   "metadata": {},
   "outputs": [],
   "source": [
    "!python -m pip install csv\n",
    "!python -m pip install json\n",
    "!python -m pip install pickle"
   ]
  },
  {
   "cell_type": "markdown",
   "id": "ede21423-158f-4888-9223-c9a138972f4a",
   "metadata": {},
   "source": [
    "# System Related\n",
    "## os - Interact with operating systems\n",
    "- https://docs.python.org/3/library/os.html\n",
    "### Perform the following data engineering tasks with the os module’s functionalities:\n",
    "- Automate creation and deletion of directories for temporary or output data storage  \n",
    "- Manipulate file paths when organizing large datasets across different directories  \n",
    "- Handle environment variables to manage configuration settings in data pipelines  \n",
    "  \n",
    "OS Module - Use Underlying Operating System Functionality tutorial\n",
    "- https://www.youtube.com/watch?v=tJxcKyFMTGo\n",
    "\n",
    "---\n",
    "## pathlib - Handle file system paths\n",
    "- https://docs.python.org/3/library/pathlib.html\n",
    "### Manipulate file and directory paths with an intuitive and readable syntax to manage file tasks.\n",
    "\n",
    "The pathlib module can come in handy in the following data engineering tasks:\n",
    "- Streamline the process of iterating over and validating large datasets\n",
    "- Simplify management of paths when moving or copying files during ETL (Extract, Transform, Load) processes\n",
    "- Ensure cross-platform compatibility, especially in multi-environment data engineering workflows\n",
    "\n",
    "How To Navigate the Filesystem with Python’s Pathlib tutorial\n",
    "- https://www.kdnuggets.com/how-to-navigate-the-filesystem-with-pythons-pathlib\n",
    "Organize, Search, and Back Up Files with Python’s Pathlib\n",
    "- https://www.kdnuggets.com/organize-search-and-back-up-files-with-pythons-pathlib\n",
    "\n",
    "---\n",
    "## shutil - Copy, move, and delete files and directories\n",
    "- https://docs.python.org/3/library/shutil.html\n",
    "\n",
    "### In data engineering projects, shutil can help with:\n",
    "- Efficiently move or copy large datasets across different storage locations\n",
    "- Automate the cleanup of temporary files and directories after processing data\n",
    "- Create backups of critical datasets before processing or analysis\n",
    "\n",
    "The Ultimate Python File Management Toolkit tutorial\n",
    "- https://www.youtube.com/watch?v=sXzezIK0d7c\n",
    "\n",
    "---\n",
    "## subprocess - Run shell commands and interact with the system shell within Python scripts\n",
    "- https://docs.python.org/3/library/subprocess.html\n",
    "### Essential to automate system tasks, call command-line tools, or capture output from external processes:\n",
    "- Automate execution of shell scripts or data processing commands\n",
    "- Capture output from command-line tools to integrate with Python workflows\n",
    "- Orchestrate complex data processing pipelines that involve multiple tools and commands\n",
    "\n",
    "Calling External Commands Using the Subprocess Module tutorial\n",
    "- https://www.youtube.com/watch?v=2Fp1N6dof0Y"
   ]
  },
  {
   "cell_type": "code",
   "execution_count": 9,
   "id": "909dc19f-6524-4d4c-9446-865c82f40de0",
   "metadata": {},
   "outputs": [
    {
     "name": "stderr",
     "output_type": "stream",
     "text": [
      "WARNING: Ignoring invalid distribution -illow (c:\\users\\gvplacencia\\appdata\\local\\anaconda3\\envs\\hfe\\lib\\site-packages)\n",
      "WARNING: Ignoring invalid distribution -illow (c:\\users\\gvplacencia\\appdata\\local\\anaconda3\\envs\\hfe\\lib\\site-packages)\n",
      "ERROR: Could not find a version that satisfies the requirement os (from versions: none)\n",
      "ERROR: No matching distribution found for os\n",
      "WARNING: Ignoring invalid distribution -illow (c:\\users\\gvplacencia\\appdata\\local\\anaconda3\\envs\\hfe\\lib\\site-packages)\n",
      "WARNING: Ignoring invalid distribution -illow (c:\\users\\gvplacencia\\appdata\\local\\anaconda3\\envs\\hfe\\lib\\site-packages)\n",
      "WARNING: There was an error checking the latest version of pip.\n"
     ]
    }
   ],
   "source": [
    "!python -m pip install os\n",
    "!python -m pip install pathlib\n",
    "!python -m pip install shutil"
   ]
  },
  {
   "cell_type": "code",
   "execution_count": 11,
   "id": "c8d3b366-8bd3-4178-a9a3-de16beb1c48d",
   "metadata": {},
   "outputs": [
    {
     "name": "stderr",
     "output_type": "stream",
     "text": [
      "WARNING: Ignoring invalid distribution -illow (c:\\users\\gvplacencia\\appdata\\local\\anaconda3\\envs\\hfe\\lib\\site-packages)\n",
      "WARNING: Ignoring invalid distribution -illow (c:\\users\\gvplacencia\\appdata\\local\\anaconda3\\envs\\hfe\\lib\\site-packages)\n",
      "ERROR: Could not find a version that satisfies the requirement csv (from versions: none)\n",
      "ERROR: No matching distribution found for csv\n",
      "WARNING: Ignoring invalid distribution -illow (c:\\users\\gvplacencia\\appdata\\local\\anaconda3\\envs\\hfe\\lib\\site-packages)\n",
      "WARNING: Ignoring invalid distribution -illow (c:\\users\\gvplacencia\\appdata\\local\\anaconda3\\envs\\hfe\\lib\\site-packages)\n",
      "WARNING: There was an error checking the latest version of pip.\n"
     ]
    }
   ],
   "source": [
    "!python -m pip install csv\n",
    "!python -m pip install json\n",
    "!python -m pip install pickle"
   ]
  },
  {
   "cell_type": "code",
   "execution_count": null,
   "id": "f08b35e5-4e98-4880-b2c4-61d26ffab515",
   "metadata": {},
   "outputs": [],
   "source": [
    "!python -m pip install os\n",
    "!python -m pip install pathlib\n",
    "!python -m pip install shutil\n",
    "!python -m pip install subprocess"
   ]
  },
  {
   "cell_type": "markdown",
   "id": "75ed2041-811d-400d-9a55-48826533ace7",
   "metadata": {},
   "source": [
    "# Data Related\n",
    "\n",
    "## datetime - Work date and time data.\n",
    "- https://docs.python.org/3/library/datetime.html\n",
    "\n",
    "- Parse and format timestamps in logs or event data\n",
    "- Manage date ranges and calculate time intervals when working with real-world datasets\n",
    "\n",
    "Datetime Module - How to work with Dates, Times, Timedeltas, and Timezones tutorial\n",
    "- https://www.youtube.com/watch?v=eirjjyP2qcQ\n",
    "---\n",
    "\n",
    "## re - Work with regular expressions for text processing\n",
    "- https://docs.python.org/3/library/re.html\n",
    "\n",
    "- Extract specific patterns from logs, raw data, or unstructured text\n",
    "- Validate data formats, such as dates, emails, or phone numbers, during ETL processes\n",
    "- Clean raw text data for further analysis\n",
    "\n",
    "re Module - How to Write and Match Regular Expressions (Regex) tutorial\n",
    "- https://www.youtube.com/watch?v=K8L6KVGG-7o"
   ]
  },
  {
   "cell_type": "code",
   "execution_count": null,
   "id": "af90dbd1-2457-41cf-8f83-c6a981539b41",
   "metadata": {},
   "outputs": [],
   "source": [
    "!python -m pip install datetime\n",
    "!python -m pip install re"
   ]
  },
  {
   "cell_type": "markdown",
   "id": "987ec8a5-2599-4659-933a-ab7b7547c689",
   "metadata": {},
   "source": [
    "# Database\n",
    "## sqlite3 - Useful for projects that require structured data storage without the overhead of a database server\n",
    "- https://docs.python.org/3/library/sqlite3.html\n",
    "\n",
    "- Prototype ETL pipelines before scaling them to fully fledged database systems\n",
    "- Store metadata, logging information, or intermediate results during data processing\n",
    "- Quickly query and manage structured data without setting up a database server\n",
    "\n",
    "A Guide to Working with SQLite Databases in Python tutorial\n",
    "- https://www.kdnuggets.com/a-guide-to-working-with-sqlite-databases-in-python"
   ]
  },
  {
   "cell_type": "code",
   "execution_count": null,
   "id": "832b4179-4bfd-4912-803e-5b4c1c31e1b6",
   "metadata": {},
   "outputs": [],
   "source": [
    "!python -m pip install sqlite3"
   ]
  }
 ],
 "metadata": {
  "kernelspec": {
   "display_name": "Python 3 (ipykernel)",
   "language": "python",
   "name": "python3"
  },
  "language_info": {
   "codemirror_mode": {
    "name": "ipython",
    "version": 3
   },
   "file_extension": ".py",
   "mimetype": "text/x-python",
   "name": "python",
   "nbconvert_exporter": "python",
   "pygments_lexer": "ipython3",
   "version": "3.10.9"
  }
 },
 "nbformat": 4,
 "nbformat_minor": 5
}
